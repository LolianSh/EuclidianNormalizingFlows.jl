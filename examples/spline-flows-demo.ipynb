{
 "cells": [
  {
   "cell_type": "code",
   "execution_count": 1,
   "id": "b1775d4a-d017-4b96-87fb-8f486d4969ae",
   "metadata": {},
   "outputs": [
    {
     "name": "stderr",
     "output_type": "stream",
     "text": [
      "┌ Info: Precompiling EuclidianNormalizingFlows [eb90128f-7c94-4cd6-9130-4bb7c9abac9d]\n",
      "└ @ Base loading.jl:1423\n"
     ]
    }
   ],
   "source": [
    "using ChangesOfVariables, InverseFunctions, ArraysOfArrays, Statistics\n",
    "using Optimisers\n",
    "using PyPlot\n",
    "using Distributions\n",
    "\n",
    "using Test\n",
    "using ForwardDiff\n",
    "using LinearAlgebra\n",
    "\n",
    "using Revise\n",
    "using EuclidianNormalizingFlows"
   ]
  },
  {
   "cell_type": "code",
   "execution_count": 18,
   "id": "50ec40ec-b403-4757-ba28-0cfbffbde805",
   "metadata": {
    "tags": []
   },
   "outputs": [
    {
     "name": "stdout",
     "output_type": "stream",
     "text": [
      "x = [0.21346626870692054 -5.345575995005845; 6.372245720109625 -7.187866699192254; -7.816656821568147 -3.92453051881456; 4.938143483956237 6.020812406279258; 0.6814327668621718 -3.4590344281020604; -9.490247326222157 12.104077650527875]\n",
      "\u001b[91m\u001b[1mTest Failed\u001b[22m\u001b[39m at \u001b[39m\u001b[1mIn[18]:23\u001b[22m\n",
      "  Expression: log(det(abs.(autodiff_jac))) ≈ jac_frwd[1, j] ≈ -(jac_bcwd[1, j])\n",
      "   Evaluated: -2.905912652116266 ≈ 0.5482254598479686 ≈ 0.3267941671122778\n"
     ]
    },
    {
     "ename": "LoadError",
     "evalue": "\u001b[91mThere was an error during testing\u001b[39m",
     "output_type": "error",
     "traceback": [
      "\u001b[91mThere was an error during testing\u001b[39m",
      "",
      "Stacktrace:",
      " [1] record(ts::Test.FallbackTestSet, t::Union{Test.Error, Test.Fail})",
      "   @ Test /Applications/Julia-1.7.app/Contents/Resources/julia/share/julia/stdlib/v1.7/Test/src/Test.jl:903",
      " [2] do_test(result::Test.ExecutionResult, orig_expr::Any)",
      "   @ Test /Applications/Julia-1.7.app/Contents/Resources/julia/share/julia/stdlib/v1.7/Test/src/Test.jl:637",
      " [3] macro expansion",
      "   @ /Applications/Julia-1.7.app/Contents/Resources/julia/share/julia/stdlib/v1.7/Test/src/Test.jl:445 [inlined]",
      " [4] top-level scope",
      "   @ In[18]:23",
      " [5] eval",
      "   @ ./boot.jl:373 [inlined]",
      " [6] include_string(mapexpr::typeof(REPL.softscope), mod::Module, code::String, filename::String)",
      "   @ Base ./loading.jl:1196"
     ]
    }
   ],
   "source": [
    "ndims = 6\n",
    "nparams = 4\n",
    "nsmpls = 2\n",
    "dist = Uniform(-3, 3)\n",
    "\n",
    "\n",
    "w = rand(dist, ndims, nparams)\n",
    "h = rand(dist, ndims, nparams)\n",
    "d = rand(dist, ndims, nparams-1)\n",
    "x = rand(Normal(0, 5), ndims, nsmpls)\n",
    "        \n",
    "trafo_frwd = RationalQuadSpline(w,h,d)\n",
    "trafo_bcwd = RationalQuadSplineInv(w,h,d)\n",
    "\n",
    "x_fwd, jac_frwd = EuclidianNormalizingFlows.with_logabsdet_jacobian(trafo_frwd, x)\n",
    "x_bcwd, jac_bcwd = EuclidianNormalizingFlows.with_logabsdet_jacobian(trafo_bcwd, x_fwd) \n",
    "\n",
    "@show x\n",
    "\n",
    "for j in 1:size(x, 2)\n",
    "    xrun = x[:,j]\n",
    "    autodiff_jac = ForwardDiff.jacobian(xtmp -> trafo_frwd(reshape(xtmp, ndims,1)), xrun )\n",
    "    @test log(det(abs.(autodiff_jac))) ≈ jac_frwd[1,j] ≈ -jac_bcwd[1, j]\n",
    "end\n",
    "\n",
    "# @show x\n",
    "# @test x_bcwd ≈ x\n",
    "# @test jac_frwd ≈ -jac_bcwd"
   ]
  },
  {
   "cell_type": "code",
   "execution_count": null,
   "id": "f44c2bc0-b562-4711-945d-90d82cf25164",
   "metadata": {},
   "outputs": [],
   "source": [
    "neg_ll, gradvals = EuclidianNormalizingFlows.mvnormal_negll_trafograd(trafo_frwd, x)\n",
    "\n",
    "a_run = ForwardDiff.gradient(par -> EuclidianNormalizingFlows.mvnormal_negll_trafo(RationalQuadSpline(par,h,d), x), w)\n",
    "@test a_run ≈ gradvals.widths"
   ]
  },
  {
   "cell_type": "code",
   "execution_count": null,
   "id": "b607455e-e53e-46d5-a83b-61f64c6bedc2",
   "metadata": {},
   "outputs": [],
   "source": [
    "a_run"
   ]
  },
  {
   "cell_type": "code",
   "execution_count": null,
   "id": "e81f93a6-c865-46fb-9718-6932a8149644",
   "metadata": {},
   "outputs": [],
   "source": [
    "gradvals.widths"
   ]
  },
  {
   "cell_type": "code",
   "execution_count": null,
   "id": "0ea443f2-ecf5-4b3a-a6fc-8af47396e97d",
   "metadata": {},
   "outputs": [],
   "source": [
    "a_run = ForwardDiff.gradient(par -> EuclidianNormalizingFlows.mvnormal_negll_trafo(RationalQuadSpline(w,par,d), x), h)\n",
    "@test a_run ≈ gradvals.heights"
   ]
  },
  {
   "cell_type": "code",
   "execution_count": null,
   "id": "aa296120-de21-45cc-a5c4-49b4399a4367",
   "metadata": {},
   "outputs": [],
   "source": [
    "a_run"
   ]
  },
  {
   "cell_type": "code",
   "execution_count": null,
   "id": "f03170e6-6c5a-4fbb-b28a-6d21f4ff6afa",
   "metadata": {},
   "outputs": [],
   "source": [
    "gradvals.heights"
   ]
  },
  {
   "cell_type": "code",
   "execution_count": null,
   "id": "ce9dfee2-a2fa-4e14-8e62-502b9c5398f0",
   "metadata": {},
   "outputs": [],
   "source": [
    "a_run = ForwardDiff.gradient(par -> EuclidianNormalizingFlows.mvnormal_negll_trafo(RationalQuadSpline(w,h,par), x), d)\n",
    "@test a_run ≈ gradvals.derivatives"
   ]
  },
  {
   "cell_type": "code",
   "execution_count": null,
   "id": "bb826d36-3a09-4f06-bbe6-f0bfd489c012",
   "metadata": {},
   "outputs": [],
   "source": [
    "gradvals.derivatives"
   ]
  },
  {
   "cell_type": "code",
   "execution_count": null,
   "id": "7792b64e-8fd2-4170-90fe-5f9b0d486b1a",
   "metadata": {},
   "outputs": [],
   "source": [
    "a_run"
   ]
  },
  {
   "cell_type": "code",
   "execution_count": null,
   "id": "93f8bdf7-9ddc-4120-935c-9cb4b292c37e",
   "metadata": {
    "tags": []
   },
   "outputs": [],
   "source": [
    "# Compare transformation results & gradients using ForwardDiff and and handwritten pullbacks.\n",
    "\n",
    "function run_test_suite(; nrepetitions = 5,\n",
    "        ndims = 5,\n",
    "        nparams = 3,\n",
    "        nsmpls = 50,\n",
    "        dist = Uniform(-3, 3),\n",
    "    )\n",
    "    \n",
    "    for i in 1:nrepetitions\n",
    "        \n",
    "        w = rand(dist, ndims, nparams)\n",
    "        h = rand(dist, ndims, nparams)\n",
    "        d = rand(dist, ndims, nparams-1)\n",
    "        x = rand(Normal(0, 6), ndims, nsmpls)\n",
    "        \n",
    "        try \n",
    "            \n",
    "            trafo_frwd = RationalQuadSpline(w,h,d)\n",
    "            trafo_bcwd = RationalQuadSplineInv(w,h,d)\n",
    "\n",
    "            x_fwd, jac_frwd = EuclidianNormalizingFlows.with_logabsdet_jacobian(trafo_frwd, x)\n",
    "            x_bcwd, jac_bcwd = EuclidianNormalizingFlows.with_logabsdet_jacobian(trafo_bcwd, x_fwd) \n",
    "\n",
    "            @test x_bcwd ≈ x\n",
    "            @test jac_frwd ≈ -jac_bcwd\n",
    "\n",
    "            neg_ll, gradvals = EuclidianNormalizingFlows.mvnormal_negll_trafograd(trafo_frwd, x)\n",
    "\n",
    "            a_run = ForwardDiff.gradient(par -> EuclidianNormalizingFlows.mvnormal_negll_trafo(RationalQuadSpline(par,h,d), x), w)\n",
    "            @test a_run ≈ gradvals.widths\n",
    "\n",
    "            a_run = ForwardDiff.gradient(par -> EuclidianNormalizingFlows.mvnormal_negll_trafo(RationalQuadSpline(w,par,d), x), h)\n",
    "            @test a_run ≈ gradvals.heights\n",
    "\n",
    "            a_run = ForwardDiff.gradient(par -> EuclidianNormalizingFlows.mvnormal_negll_trafo(RationalQuadSpline(w,h,par), x), d)\n",
    "            @test a_run ≈ gradvals.derivatives\n",
    "            \n",
    "            for j in 1:size(x, 2)\n",
    "                xrun = x[:,j]\n",
    "                autodiff_jac = ForwardDiff.jacobian(xtmp -> trafo_frwd(reshape(xtmp, ndims,1)), xrun )\n",
    "                @test log(det(abs.(autodiff_jac))) ≈ jac_frwd[1,j] ≈ -jac_bcwd[1, j]\n",
    "            end\n",
    "\n",
    "        catch \n",
    "            print(\"Test error. Parameters: \\n\")\n",
    "            @show w, h, d, x\n",
    "        end\n",
    "        \n",
    "    end\n",
    "end\n",
    "\n",
    "run_test_suite()"
   ]
  },
  {
   "cell_type": "code",
   "execution_count": null,
   "id": "620fa9e2-fd6c-4d10-a120-8293cd3ea0aa",
   "metadata": {},
   "outputs": [],
   "source": []
  },
  {
   "cell_type": "code",
   "execution_count": null,
   "id": "dd32c2bb-1ef8-4f1e-8ae3-3c7a5972ee83",
   "metadata": {},
   "outputs": [],
   "source": []
  },
  {
   "cell_type": "code",
   "execution_count": null,
   "id": "9caeed41-cb03-4319-8b52-748b1e018bac",
   "metadata": {},
   "outputs": [],
   "source": []
  },
  {
   "cell_type": "markdown",
   "id": "f0a3040c-30e9-4c3b-b341-303b6b56ac9b",
   "metadata": {},
   "source": [
    "# 2D fit: "
   ]
  },
  {
   "cell_type": "code",
   "execution_count": null,
   "id": "851f5c8b-c3d7-492a-9713-b521de3f5113",
   "metadata": {},
   "outputs": [],
   "source": [
    "nparams = 15\n",
    "nsmpls = 3000\n",
    "ndims = 2\n",
    "K = nparams\n",
    "\n",
    "dist = Uniform(-1, 1)\n",
    "\n",
    "trafo_truth = RationalQuadSplineInv(rand(dist, ndims, nparams),rand(dist, ndims, nparams),rand(dist, ndims, nparams-1))\n",
    "\n",
    "y = rand(Normal(0, 1), ndims, nsmpls)\n",
    "x = trafo_truth(y);"
   ]
  },
  {
   "cell_type": "code",
   "execution_count": null,
   "id": "206dd995-5fbd-4610-a8bd-7e4dbd023e21",
   "metadata": {},
   "outputs": [],
   "source": [
    "@test x ≈ RationalQuadSpline(trafo_truth.widths,trafo_truth.heights,trafo_truth.derivatives)(RationalQuadSplineInv(trafo_truth.widths,trafo_truth.heights,trafo_truth.derivatives)(x))"
   ]
  },
  {
   "cell_type": "code",
   "execution_count": null,
   "id": "bc2593eb-51b9-4f93-8a36-24842e50b843",
   "metadata": {},
   "outputs": [],
   "source": [
    "fig, ax = plt.subplots(1,2,  figsize=(8,4))\n",
    "\n",
    "ax[1].hist2d(x[1,:], x[2,:], 100, cmap=\"Blues\")\n",
    "# ax[1].scatter(x[1,:], x[2,:], s=0.1, alpha=0.2, color=\"C0\")\n",
    "\n",
    "ax[2].hist2d(y[1,:], y[2,:], 100, cmap=\"Blues\")\n",
    "# ax[2].scatter(y[1,:], y[2,:], s=0.1, alpha=0.5, color=\"C0\")"
   ]
  },
  {
   "cell_type": "code",
   "execution_count": null,
   "id": "d0ca1bf6-660a-471e-95b9-60ebf37b651a",
   "metadata": {},
   "outputs": [],
   "source": [
    "# initial_trafo = \n",
    "#     EuclidianNormalizingFlows.JohnsonTrafo([10.0, 11.0], [3.5, 3.6], [10.0, 11.0], [1.0, 1.1]) ∘\n",
    "#     EuclidianNormalizingFlows.ScaleShiftTrafo(ones(ndims), zeros(ndims)) ∘  \n",
    "#     RationalQuadSpline(ones(ndims, nparams), ones(ndims, nparams), ones(ndims, nparams-1))\n",
    "\n",
    "# initial_trafo =  ScaleShiftTrafo(ones(ndims), zeros(ndims))\n",
    "\n",
    "initial_trafo =  RationalQuadSpline(ones(ndims, nparams), ones(ndims, nparams), ones(ndims, nparams-1))\n",
    "\n",
    "optimizer = ADAGrad()\n",
    "smpls = nestedview(x)\n",
    "nbatches = 20\n",
    "nepochs = 10 \n",
    "\n",
    "r = EuclidianNormalizingFlows.optimize_whitening(smpls, initial_trafo, optimizer, nbatches = nbatches, nepochs = nepochs)"
   ]
  },
  {
   "cell_type": "code",
   "execution_count": null,
   "id": "2a2217d7-a22c-4fb9-9af4-d1545ec434c1",
   "metadata": {},
   "outputs": [],
   "source": [
    "yhat = r.result(x)"
   ]
  },
  {
   "cell_type": "code",
   "execution_count": null,
   "id": "e06830ec-de53-4d66-a9aa-6528d4918c32",
   "metadata": {},
   "outputs": [],
   "source": [
    "@show mean(yhat, dims=2)\n",
    "@show std(yhat, dims=2)"
   ]
  },
  {
   "cell_type": "code",
   "execution_count": null,
   "id": "e4871e8e-eca5-4d34-96c8-b7e760ca7347",
   "metadata": {},
   "outputs": [],
   "source": [
    "fig, ax = plt.subplots(1,2,  figsize=(8,4))\n",
    "\n",
    "ax[1].hist2d(x[1,:], x[2,:], 100, cmap=\"Blues\")\n",
    "# ax[1].scatter(x[1,:], x[2,:], s=0.1, alpha=0.2, color=\"C0\")\n",
    "\n",
    "ax[2].hist2d(yhat[1,:], yhat[2,:], 100, cmap=\"Blues\")\n",
    "# ax[2].scatter(y[1,:], y[2,:], s=0.1, alpha=0.5, color=\"C0\")"
   ]
  },
  {
   "cell_type": "code",
   "execution_count": null,
   "id": "90fcb0eb-92e4-4b34-bc85-16662a31b105",
   "metadata": {},
   "outputs": [],
   "source": [
    "fig, ax = plt.subplots(1,1,  figsize=(6,4))\n",
    "\n",
    "ax.plot(1:length(r.negll_history), r.negll_history)\n",
    "ax.set_ylabel(\"Cost\")\n",
    "ax.set_xlabel(\"Iteration\")"
   ]
  },
  {
   "cell_type": "markdown",
   "id": "11b87214-3a1b-45c5-be53-987903936783",
   "metadata": {},
   "source": [
    "# 20D fit: "
   ]
  },
  {
   "cell_type": "code",
   "execution_count": null,
   "id": "811f9aec-1564-4ff3-8c71-e9dde326b1d9",
   "metadata": {},
   "outputs": [],
   "source": [
    "nparams = 20 # 1180 parameters in total\n",
    "nsmpls = 2000\n",
    "ndims = 20\n",
    "K = nparams\n",
    "dist = Uniform(-1, 1)\n",
    "\n",
    "y = rand(Normal(0, 1), ndims, nsmpls);"
   ]
  },
  {
   "cell_type": "code",
   "execution_count": null,
   "id": "50d5a19c-ede0-42e7-b7f7-b5d252737bbd",
   "metadata": {},
   "outputs": [],
   "source": [
    "bwd_true =\n",
    "#     EuclidianNormalizingFlows.ScaleShiftTrafo([1., 0.4], [2.5, -1.2]) ∘\n",
    "#     EuclidianNormalizingFlows.HouseholderTrafo([1.0, 0.3]) ∘\n",
    "#     EuclidianNormalizingFlows.CenterStretch([1.0, 0.1], [2.0, 2.1], [1.0, 1.1]) ∘\n",
    "    RationalQuadSplineInv(rand(dist, ndims, nparams),rand(dist, ndims, nparams),rand(dist, ndims, nparams-1))\n",
    "\n",
    "x = bwd_true(y)"
   ]
  },
  {
   "cell_type": "code",
   "execution_count": null,
   "id": "d261b204-9ec3-4335-8377-27b876a163b4",
   "metadata": {},
   "outputs": [],
   "source": [
    "fig, ax = plt.subplots(1,2,  figsize=(8,4))\n",
    "\n",
    "ax[1].hist2d(x[1,:], x[2,:], 100, cmap=\"Blues\")\n",
    "# ax[1].scatter(x[1,:], x[2,:], s=0.1, alpha=0.2, color=\"C0\")\n",
    "\n",
    "ax[2].hist2d(y[1,:], y[2,:], 100, cmap=\"Blues\");\n",
    "# ax[2].scatter(y[1,:], y[2,:], s=0.1, alpha=0.5, color=\"C0\")"
   ]
  },
  {
   "cell_type": "code",
   "execution_count": null,
   "id": "c89d305a-fbe1-47c0-8a56-d95e38db5fea",
   "metadata": {},
   "outputs": [],
   "source": [
    "initial_trafo = \n",
    "    RationalQuadSpline(ones(ndims, 40), ones(ndims, 40), ones(ndims, 40-1)) #∘\n",
    "#     EuclidianNormalizingFlows.ScaleShiftTrafo([1., 1], [2., 2]) \n",
    "\n",
    "optimizer = ADAGrad(0.1)\n",
    "smpls = nestedview(x)\n",
    "nbatches = 50\n",
    "nepochs = 20 \n",
    "\n",
    "r = EuclidianNormalizingFlows.optimize_whitening(smpls, initial_trafo, optimizer, nbatches = nbatches, nepochs = nepochs);"
   ]
  },
  {
   "cell_type": "code",
   "execution_count": null,
   "id": "1c9d73f4-c63d-4fd5-a23f-22ac21598878",
   "metadata": {},
   "outputs": [],
   "source": [
    "yhat = r.result(x);"
   ]
  },
  {
   "cell_type": "code",
   "execution_count": null,
   "id": "08a09388-1137-4f7c-ac94-5b1ed2a274b3",
   "metadata": {},
   "outputs": [],
   "source": [
    "@show mean(yhat, dims=2)\n",
    "@show std(yhat, dims=2);"
   ]
  },
  {
   "cell_type": "code",
   "execution_count": null,
   "id": "09eb20f8-3b24-4807-bd1f-2888270ffd11",
   "metadata": {},
   "outputs": [],
   "source": [
    "fig, ax = plt.subplots(1,2,  figsize=(8,4))\n",
    "\n",
    "ax[1].hist2d(x[1,:], x[2,:], 100, cmap=\"Blues\")\n",
    "# ax[1].scatter(x[1,:], x[2,:], s=0.1, alpha=0.2, color=\"C0\")\n",
    "\n",
    "ax[2].hist2d(yhat[1,:], yhat[2,:], 100, cmap=\"Blues\")\n",
    "# ax[2].scatter(y[1,:], y[2,:], s=0.1, alpha=0.5, color=\"C0\")"
   ]
  },
  {
   "cell_type": "code",
   "execution_count": null,
   "id": "f98cec70-507f-47be-b4c7-1dd730924b44",
   "metadata": {},
   "outputs": [],
   "source": [
    "fig, ax = plt.subplots(1,1,  figsize=(6,4))\n",
    "\n",
    "ax.plot(1:length(r.negll_history), r.negll_history)\n",
    "ax.set_ylabel(\"Cost\")\n",
    "ax.set_xlabel(\"Iteration\")"
   ]
  },
  {
   "cell_type": "code",
   "execution_count": null,
   "id": "8e1556a7-7b19-4c6b-b30c-6f5926ca9024",
   "metadata": {},
   "outputs": [],
   "source": []
  }
 ],
 "metadata": {
  "kernelspec": {
   "display_name": "Julia 1.7.2",
   "language": "julia",
   "name": "julia-1.7"
  },
  "language_info": {
   "file_extension": ".jl",
   "mimetype": "application/julia",
   "name": "julia",
   "version": "1.7.2"
  }
 },
 "nbformat": 4,
 "nbformat_minor": 5
}
